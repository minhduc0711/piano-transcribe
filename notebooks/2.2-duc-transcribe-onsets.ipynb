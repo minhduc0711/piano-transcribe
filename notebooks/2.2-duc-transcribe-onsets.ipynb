{
 "cells": [
  {
   "cell_type": "code",
   "execution_count": 1,
   "metadata": {},
   "outputs": [
    {
     "name": "stdout",
     "output_type": "stream",
     "text": [
      "/media/minhduc0711/Libraries/Codes/EURECOM/MALIS_project\n"
     ]
    }
   ],
   "source": [
    "%load_ext autoreload\n",
    "%autoreload 2\n",
    "%cd .."
   ]
  },
  {
   "cell_type": "code",
   "execution_count": 4,
   "metadata": {},
   "outputs": [],
   "source": [
    "import torchaudio\n",
    "from torchaudio import transforms\n",
    "\n",
    "from src.models.onsets_and_frames import OnsetsAndFrames\n",
    "from src.data.data_modules import MAPSDataModule"
   ]
  },
  {
   "cell_type": "code",
   "execution_count": 5,
   "metadata": {},
   "outputs": [],
   "source": [
    "model = OnsetsAndFrames.load_from_checkpoint(\"models/onf-MAPS-epoch=379-valid_loss=0.08.ckpt\",\n",
    "                                             in_feats=229)\n",
    "model.eval();"
   ]
  },
  {
   "cell_type": "code",
   "execution_count": 6,
   "metadata": {},
   "outputs": [
    {
     "data": {
      "text/plain": [
       "torch.Size([1, 336, 229])"
      ]
     },
     "execution_count": 6,
     "metadata": {},
     "output_type": "execute_result"
    }
   ],
   "source": [
    "audio_path = \"canon1.wav\"\n",
    "\n",
    "audio, sample_rate = torchaudio.load(str(audio_path))\n",
    "if sample_rate != 16000:\n",
    "    resampler = transforms.Resample(orig_freq=sample_rate,\n",
    "                                   new_freq=16000)\n",
    "    audio = resampler(audio)\n",
    "# convert to mono channel if necessary\n",
    "if audio.ndim > 1:\n",
    "    audio = audio.mean(dim=0)\n",
    "\n",
    "dm = MAPSDataModule(batch_size=1)\n",
    "audio = dm.audio_transform(audio)\n",
    "audio.transpose_(0, 1)\n",
    "audio.unsqueeze_(0)\n",
    "\n",
    "audio.shape"
   ]
  },
  {
   "cell_type": "code",
   "execution_count": 7,
   "metadata": {},
   "outputs": [],
   "source": [
    "onset_pred, frame_pred, velocity_pred = model(audio)\n",
    "p_est, i_est, v_est = model.extract_notes(onset_pred.squeeze(),\n",
    "                                          frame_pred.squeeze(),\n",
    "                                          velocity_pred.squeeze(),\n",
    "                                          sample_rate=sample_rate,\n",
    "                                          hop_length=512)"
   ]
  },
  {
   "cell_type": "code",
   "execution_count": 14,
   "metadata": {},
   "outputs": [],
   "source": [
    "from mido import MidiFile, MidiTrack, Message\n",
    "from mir_eval.util import hz_to_midi\n",
    "from pathlib import Path\n",
    "\n",
    "file = MidiFile()\n",
    "track = MidiTrack()\n",
    "file.tracks.append(track)\n",
    "ticks_per_second = file.ticks_per_beat * 5\n",
    "\n",
    "events = []\n",
    "for pitch, (time_on, time_off), velocity in \\\n",
    "        zip(p_est, i_est, v_est):\n",
    "    events.append({\"type\":\"on\", \"pitch\":pitch, \"time\":time_on, \"velocity\":velocity})\n",
    "    events.append({\"type\":\"off\", \"pitch\":pitch, \"time\":time_off, \"velocity\":velocity})\n",
    "events.sort(key=lambda row: row[\"time\"])\n",
    "\n",
    "last_tick = 0\n",
    "for event in events:\n",
    "    current_tick = int(event['time'] * ticks_per_second)\n",
    "    velocity = min(int(event['velocity'] * 127), 127)\n",
    "    pitch = int(round(hz_to_midi(event['pitch'])))\n",
    "    track.append(Message('note_' + event['type'], note=pitch, velocity=velocity, time=current_tick - last_tick))\n",
    "    last_tick = current_tick\n",
    "\n",
    "file.save(Path(audio_path).with_suffix(\".midi\"))"
   ]
  },
  {
   "cell_type": "code",
   "execution_count": 17,
   "metadata": {},
   "outputs": [
    {
     "name": "stderr",
     "output_type": "stream",
     "text": [
      "Loading data samples into memory: 100%|██████████| 60/60 [00:42<00:00,  1.41it/s]\n"
     ]
    }
   ],
   "source": [
    "from src.data.data_modules import MAPSDataModule\n",
    "dm = MAPSDataModule(batch_size=1)\n",
    "dm.setup(\"test\")"
   ]
  },
  {
   "cell_type": "code",
   "execution_count": 27,
   "metadata": {},
   "outputs": [
    {
     "data": {
      "text/plain": [
       "torch.Size([1, 12045, 229])"
      ]
     },
     "execution_count": 27,
     "metadata": {},
     "output_type": "execute_result"
    }
   ],
   "source": [
    "loader =dm.test_dataloader()\n",
    "\n",
    "next(iter(loader))[\"audio\"].shape"
   ]
  },
  {
   "cell_type": "code",
   "execution_count": 24,
   "metadata": {},
   "outputs": [
    {
     "data": {
      "text/plain": [
       "torch.Size([8568, 229])"
      ]
     },
     "execution_count": 24,
     "metadata": {},
     "output_type": "execute_result"
    }
   ],
   "source": [
    "dm.test_ds[2][\"audio\"].shape"
   ]
  }
 ],
 "metadata": {
  "kernelspec": {
   "display_name": "Python [conda env:piano-transcribe]",
   "language": "python",
   "name": "conda-env-piano-transcribe-py"
  },
  "language_info": {
   "codemirror_mode": {
    "name": "ipython",
    "version": 3
   },
   "file_extension": ".py",
   "mimetype": "text/x-python",
   "name": "python",
   "nbconvert_exporter": "python",
   "pygments_lexer": "ipython3",
   "version": "3.8.5"
  }
 },
 "nbformat": 4,
 "nbformat_minor": 4
}
