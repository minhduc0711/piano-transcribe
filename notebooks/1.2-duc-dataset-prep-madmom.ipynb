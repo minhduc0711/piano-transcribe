{
 "cells": [
  {
   "cell_type": "code",
   "execution_count": null,
   "metadata": {},
   "outputs": [],
   "source": [
    "%load_ext autoreload\n",
    "%autoreload 2\n",
    "%cd .."
   ]
  },
  {
   "cell_type": "code",
   "execution_count": 2,
   "metadata": {},
   "outputs": [
    {
     "name": "stderr",
     "output_type": "stream",
     "text": [
      "/home/minhduc0711/miniconda3/envs/piano-transcribe/lib/python3.8/site-packages/torchaudio/backend/utils.py:53: UserWarning: \"sox\" backend is being deprecated. The default backend will be changed to \"sox_io\" backend in 0.8.0 and \"sox\" backend will be removed in 0.9.0. Please migrate to \"sox_io\" backend. Please refer to https://github.com/pytorch/audio/issues/903 for the detail.\n",
      "  warnings.warn(\n"
     ]
    }
   ],
   "source": [
    "import torch\n",
    "import torch.nn as nn\n",
    "from torch.utils.data import DataLoader\n",
    "import torchaudio\n",
    "\n",
    "from src.data.datasets import MAPSDataset\n",
    "from src.data.audio import MadmomSpectrogram"
   ]
  },
  {
   "cell_type": "code",
   "execution_count": 3,
   "metadata": {},
   "outputs": [
    {
     "data": {
      "text/plain": [
       "(torch.Size([5, 294]), torch.Size([5, 88]))"
      ]
     },
     "execution_count": 3,
     "metadata": {},
     "output_type": "execute_result"
    }
   ],
   "source": [
    "# num_bins become 294 if set sample rate to 16kHz\n",
    "audio_transform = MadmomSpectrogram(hop_length=441* 4, sample_rate=16000)\n",
    "ds = MAPSDataset(data_dir=\"data/processed/MAPS_MUS/\",\n",
    "                 subsets=[\"ENSTDkAm\"],\n",
    "                 max_steps=5,\n",
    "                 lazy_loading=True,\n",
    "                 audio_transform=audio_transform)\n",
    "ds[0][\"audio\"].shape, ds[0][\"frames\"].shape"
   ]
  },
  {
   "cell_type": "code",
   "execution_count": 4,
   "metadata": {},
   "outputs": [
    {
     "name": "stdout",
     "output_type": "stream",
     "text": [
      "(4, 5, 294) (4, 5, 88)\n"
     ]
    }
   ],
   "source": [
    "loader = DataLoader(ds, batch_size=4)\n",
    "# example: training loop\n",
    "for batch in loader:\n",
    "    X, y = batch[\"audio\"].numpy(), batch[\"frames\"].numpy()\n",
    "    print(X.shape, y.shape)\n",
    "    # model.fit(X, y)...\n",
    "    break"
   ]
  }
 ],
 "metadata": {
  "kernelspec": {
   "display_name": "Python [conda env:piano-transcribe]",
   "language": "python",
   "name": "conda-env-piano-transcribe-py"
  },
  "language_info": {
   "codemirror_mode": {
    "name": "ipython",
    "version": 3
   },
   "file_extension": ".py",
   "mimetype": "text/x-python",
   "name": "python",
   "nbconvert_exporter": "python",
   "pygments_lexer": "ipython3",
   "version": "3.8.5"
  }
 },
 "nbformat": 4,
 "nbformat_minor": 4
}
