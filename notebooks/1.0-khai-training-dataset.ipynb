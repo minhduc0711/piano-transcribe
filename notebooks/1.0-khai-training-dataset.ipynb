{
 "cells": [
  {
   "cell_type": "code",
   "execution_count": 1,
   "metadata": {},
   "outputs": [
    {
     "name": "stdout",
     "output_type": "stream",
     "text": [
      "/home/khai/malist_project/piano-transcribe\n"
     ]
    }
   ],
   "source": [
    "%load_ext autoreload\n",
    "%autoreload 2\n",
    "%cd .."
   ]
  },
  {
   "cell_type": "code",
   "execution_count": 24,
   "metadata": {},
   "outputs": [],
   "source": [
    "import torch\n",
    "import torch.nn as nn\n",
    "from torch.utils.data import DataLoader\n",
    "import torchaudio\n",
    "from pathlib import Path\n",
    "import numpy as np\n",
    "import mathplotlib\n",
    "\n",
    "from src.data.audio import onf_transform\n",
    "from src.data.datasets import MAPSDataset\n",
    "from src.data.audio import MadmomSpectrogram\n",
    "from src.data.data_modules import MAPSDataModule\n",
    "from sklearn.linear_model import SGDClassifier\n",
    "from sklearn.multioutput import MultiOutputClassifier\n",
    "from sklearn.neighbors import KNeighborsClassifier\n",
    "from sklearn.metrics import accuracy_score\n",
    "from sklearn.datasets import make_multilabel_classification\n",
    "from src.eval import compute_frame_metrics"
   ]
  },
  {
   "cell_type": "code",
   "execution_count": 14,
   "metadata": {},
   "outputs": [],
   "source": [
    "# audio_transform = MadmomSpectrogram(hop_length=441*4, sample_rate=16000)\n",
    "mapsDataModule = MAPSDataModule(batch_size=4, \n",
    "                                max_steps=5, \n",
    "                                sample_rate=16000, \n",
    "                                audio_transform=onf_transform, \n",
    "                                lazy_loading=True,\n",
    "                                hop_length = 512)"
   ]
  },
  {
   "cell_type": "code",
   "execution_count": 15,
   "metadata": {},
   "outputs": [],
   "source": [
    "# setup data \n",
    "mapsDataModule.setup()"
   ]
  },
  {
   "cell_type": "code",
   "execution_count": 16,
   "metadata": {},
   "outputs": [],
   "source": [
    "train_loader = mapsDataModule.train_dataloader()\n",
    "validate_loader = mapsDataModule.val_dataloader()\n",
    "test_loader = mapsDataModule.test_dataloader()"
   ]
  },
  {
   "cell_type": "code",
   "execution_count": 51,
   "metadata": {},
   "outputs": [
    {
     "data": {
      "text/plain": [
       "229"
      ]
     },
     "execution_count": 51,
     "metadata": {},
     "output_type": "execute_result"
    }
   ],
   "source": [
    "# # train_loader.dataset[0]['frames'].shape\n",
    "# for batch in train_loader: \n",
    "#     print(batch['audio'][3])\n",
    "#     break\n",
    "\n",
    "batch['audio'].shape[2]"
   ]
  },
  {
   "cell_type": "code",
   "execution_count": 21,
   "metadata": {},
   "outputs": [],
   "source": [
    "clf = MultiOutputClassifier(SGDClassifier(loss='log'))\n",
    "for i_batch,batch in enumerate(train_loader):\n",
    "    batch_input = torch.reshape(batch['audio'], [batch['audio'].shape[0], batch['audio'].shape[2]])\n",
    "    batch_output = batch['frames'][:,2,:]\n",
    "    clf.partial_fit(batch_input.numpy(), batch_output.numpy().astype(np.int), classes=[np.array([0,1]) for i in range(88)])"
   ]
  },
  {
   "cell_type": "code",
   "execution_count": 25,
   "metadata": {},
   "outputs": [
    {
     "name": "stdout",
     "output_type": "stream",
     "text": [
      "[{'frame': {'precision': 0.9147727272727273, 'recall': 0.9147727272727273, 'f1': 0.9147727272727273}}, {'frame': {'precision': 0.9261363636363636, 'recall': 0.9261363636363636, 'f1': 0.9261363636363636}}, {'frame': {'precision': 0.9147727272727273, 'recall': 0.9147727272727273, 'f1': 0.9147727272727273}}, {'frame': {'precision': 0.9176136363636364, 'recall': 0.9176136363636364, 'f1': 0.9176136363636364}}, {'frame': {'precision': 0.9318181818181818, 'recall': 0.9318181818181818, 'f1': 0.9318181818181818}}, {'frame': {'precision': 0.9232954545454546, 'recall': 0.9232954545454546, 'f1': 0.9232954545454546}}, {'frame': {'precision': 0.9232954545454546, 'recall': 0.9232954545454546, 'f1': 0.9232954545454546}}, {'frame': {'precision': 0.9488636363636364, 'recall': 0.9488636363636364, 'f1': 0.9488636363636364}}]\n"
     ]
    }
   ],
   "source": [
    "sample_metrics = []\n",
    "for batch in validate_loader:\n",
    "    batch_input = torch.reshape(batch['audio'], [batch['audio'].shape[0], 5*229])\n",
    "    batch_output = batch['frames'][:,2,:]\n",
    "    batch_pred = clf.predict(batch_input.numpy())\n",
    "    dict_score = compute_frame_metrics(batch_pred.flatten(), batch_output.numpy().astype(int).flatten())\n",
    "    sample_metrics.append(dict_score)"
   ]
  },
  {
   "cell_type": "code",
   "execution_count": 31,
   "metadata": {},
   "outputs": [
    {
     "ename": "SyntaxError",
     "evalue": "invalid syntax (<ipython-input-31-398513f134df>, line 4)",
     "output_type": "error",
     "traceback": [
      "\u001b[0;36m  File \u001b[0;32m\"<ipython-input-31-398513f134df>\"\u001b[0;36m, line \u001b[0;32m4\u001b[0m\n\u001b[0;31m    plt.xticks(range(len(D)), list(sample_metrics['frame'].key()))\u001b[0m\n\u001b[0m    ^\u001b[0m\n\u001b[0;31mSyntaxError\u001b[0m\u001b[0;31m:\u001b[0m invalid syntax\n"
     ]
    }
   ],
   "source": []
  },
  {
   "cell_type": "code",
   "execution_count": 27,
   "metadata": {},
   "outputs": [
    {
     "data": {
      "text/plain": [
       "{'frame': {'precision': 0.9147727272727273,\n",
       "  'recall': 0.9147727272727273,\n",
       "  'f1': 0.9147727272727273}}"
      ]
     },
     "execution_count": 27,
     "metadata": {},
     "output_type": "execute_result"
    }
   ],
   "source": [
    "sample_metrics[0]"
   ]
  },
  {
   "cell_type": "code",
   "execution_count": 10,
   "metadata": {},
   "outputs": [],
   "source": [
    "svm_clf = MultiOutputClassifier(SGDClassifier(loss='hinge'))\n",
    "for i_batch,batch in enumerate(train_loader):\n",
    "    batch_input = torch.reshape(batch['audio'], [4, 5*294])\n",
    "    batch_output = batch['frames'][:,2,:]\n",
    "    svm_clf.partial_fit(batch_input.numpy(), batch_output.numpy().astype(np.int), classes=[np.array([0,1]) for i in range(88)])"
   ]
  },
  {
   "cell_type": "code",
   "execution_count": 11,
   "metadata": {},
   "outputs": [
    {
     "name": "stdout",
     "output_type": "stream",
     "text": [
      "Average accurary:  0.9019886363636365\n"
     ]
    }
   ],
   "source": [
    "accuracy = 0\n",
    "for batch in validate_loader:\n",
    "    batch_input = torch.reshape(batch['audio'], [batch['audio'].shape[0], 5*294])\n",
    "    batch_output = batch['frames'][:,2,:]\n",
    "    batch_pred = svm_clf.predict(batch_input.numpy())\n",
    "    accuracy += accuracy_score(batch_output.numpy().astype(int).flatten(), batch_pred.flatten())\n",
    "\n",
    "print('Average accurary: ', accuracy/len(validate_loader))"
   ]
  },
  {
   "cell_type": "code",
   "execution_count": 46,
   "metadata": {},
   "outputs": [],
   "source": [
    "import matplotlib.pyplot as plt\n",
    "\n",
    "def plot(sample_metrics): \n",
    "    frames = [i for i in range(len(sample_metrics))]\n",
    "    precisions = [i['frame']['precision'] for i in sample_metrics]\n",
    "    recalls = [i['frame']['recall'] for i in sample_metrics]    \n",
    "    f1 = [i['frame']['f1'] for i in sample_metrics]    \n",
    "    plt.plot(frames, precisions, 'r', label='precisions')\n",
    "    plt.plot(frames, recalls, 'b', label='recalls')\n",
    "    plt.plot(frames, f1, 'g', label='f1')\n",
    "    plt.legend()\n",
    "    plt.xlabel('Frames')\n",
    "    plt.ylabel('Values')\n",
    "    plt.title('Data evaluation')\n",
    "    plt.show()"
   ]
  },
  {
   "cell_type": "code",
   "execution_count": 47,
   "metadata": {},
   "outputs": [
    {
     "data": {
      "image/png": "[encoded data removed]",
      "text/plain": [
       "<Figure size 432x288 with 1 Axes>"
      ]
     },
     "metadata": {
      "needs_background": "light"
     },
     "output_type": "display_data"
    }
   ],
   "source": [
    "plot(sample_metrics)"
   ]
  },
  {
   "cell_type": "code",
   "execution_count": null,
   "metadata": {},
   "outputs": [],
   "source": []
  }
 ],
 "metadata": {
  "kernelspec": {
   "display_name": "Python 3",
   "language": "python",
   "name": "python3"
  },
  "language_info": {
   "codemirror_mode": {
    "name": "ipython",
    "version": 3
   },
   "file_extension": ".py",
   "mimetype": "text/x-python",
   "name": "python",
   "nbconvert_exporter": "python",
   "pygments_lexer": "ipython3",
   "version": "3.8.5"
  }
 },
 "nbformat": 4,
 "nbformat_minor": 4
}
