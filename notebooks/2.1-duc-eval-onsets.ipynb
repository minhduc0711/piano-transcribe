{
 "cells": [
  {
   "cell_type": "code",
   "execution_count": 1,
   "metadata": {},
   "outputs": [
    {
     "name": "stdout",
     "output_type": "stream",
     "text": [
      "/media/minhduc0711/Libraries/Codes/EURECOM/MALIS_project\n"
     ]
    }
   ],
   "source": [
    "%load_ext autoreload\n",
    "%autoreload 2\n",
    "%cd .."
   ]
  },
  {
   "cell_type": "code",
   "execution_count": 27,
   "metadata": {},
   "outputs": [],
   "source": [
    "from mir_eval.transcription import precision_recall_f1_overlap as eval_notes\n",
    "from mir_eval.transcription_velocity import precision_recall_f1_overlap as eval_notes_with_velocity\n",
    "import numpy as np\n",
    "import torch\n",
    "import torch.nn as nn\n",
    "from torchaudio import transforms\n",
    "from torch.utils.data import DataLoader, Subset\n",
    "\n",
    "from src.data.datasets import MAPSDataset\n",
    "from src.data.data_modules import MAPSDataModule\n",
    "from src.utils import Lambda\n",
    "from src.models import OnsetsAndFrames"
   ]
  },
  {
   "cell_type": "code",
   "execution_count": 3,
   "metadata": {},
   "outputs": [
    {
     "name": "stdout",
     "output_type": "stream",
     "text": [
      "/media/minhduc0711/Libraries/Codes/EURECOM/MALIS_project/data/processed/MAPS_MUS/AkPnBcht/MAPS_MUS-alb_se3_AkPnBcht.wav\n"
     ]
    },
    {
     "data": {
      "text/plain": [
       "(tensor(-17.9050), tensor(5.1918))"
      ]
     },
     "execution_count": 3,
     "metadata": {},
     "output_type": "execute_result"
    }
   ],
   "source": [
    "audio_transform = nn.Sequential(\n",
    "    transforms.MelSpectrogram(\n",
    "        n_mels=229, hop_length=512, n_fft=2048\n",
    "    ),\n",
    "    Lambda(lambda x: torch.log(x))\n",
    ")\n",
    "ds = MAPSDataset(\"data/processed/MAPS_MUS/\",\n",
    "                 subsets=[\"AkPnBcht\"],\n",
    "                 max_steps=640,\n",
    "                 audio_transform=audio_transform)\n",
    "\n",
    "sample = ds[0] \n",
    "print(sample[\"audio_path\"])\n",
    "X, onset_true, frame_true = sample[\"audio\"], sample[\"onsets\"], sample[\"frames\"]\n",
    "\n",
    "model = OnsetsAndFrames(in_feats=229)\n",
    "onset_pred, frame_pred, vel_pred = model(X.unsqueeze(0))\n",
    "X.min(), X.max()"
   ]
  },
  {
   "cell_type": "code",
   "execution_count": 10,
   "metadata": {},
   "outputs": [
    {
     "data": {
      "text/plain": [
       "(tensor(0.6361, grad_fn=<MaxBackward1>),\n",
       " tensor(0.3641, grad_fn=<MinBackward1>))"
      ]
     },
     "execution_count": 10,
     "metadata": {},
     "output_type": "execute_result"
    }
   ],
   "source": [
    "dm = MAPSDataModule(batch_size=1, lazy_loading=True)\n",
    "dm.setup()\n",
    "\n",
    "sample = next(iter(dm.train_dataloader()))\n",
    "X, onset_true, frame_true = sample[\"audio\"], sample[\"onsets\"], sample[\"frames\"]\n",
    "\n",
    "model = OnsetsAndFrames(in_feats=229)\n",
    "onset_pred, frame_pred, vel_pred = model(X)\n",
    "onset_pred.max(), onset_pred.min()"
   ]
  },
  {
   "cell_type": "code",
   "execution_count": 11,
   "metadata": {},
   "outputs": [],
   "source": [
    "def extract_notes(onsets, frames, velocity):\n",
    "    \"\"\"\n",
    "    Make sure that a note is produced only when both an onset & one or more frames agree\n",
    "    \"\"\"\n",
    "    onset_threshold=0.5\n",
    "    frame_threshold=0.5\n",
    "    onsets = (onsets > onset_threshold).cpu().to(torch.int)\n",
    "    frames = (frames > frame_threshold).cpu().to(torch.int)\n",
    "\n",
    "    # squashing adjacent onsets\n",
    "    onsets = torch.cat([onsets[:1, :], onsets[1:, :] - onsets[:-1, :]], dim=0) == 1\n",
    "    pitches = []\n",
    "    # array of (n, 2) - onset and offset times\n",
    "    intervals = []\n",
    "    velocities = []\n",
    "\n",
    "    for onset_t, onset_pitch in onsets.nonzero():\n",
    "        onset = onset_t.item()\n",
    "        pitch = onset_pitch.item()\n",
    "\n",
    "        offset = onset\n",
    "        while offset < onsets.shape[0] and ( \\\n",
    "                frames[offset, pitch].item() == 1 or \\\n",
    "                onsets[offset, pitch].item() == 1):\n",
    "            offset += 1\n",
    "            \n",
    "        if offset > onset:\n",
    "            pitches.append(pitch)\n",
    "            intervals.append([onset, offset])\n",
    "            velocities.append(velocity[onset, pitch])\n",
    "            \n",
    "    sample_rate = 16000\n",
    "    hop_length = 512\n",
    "    scale_factor = hop_length / sample_rate\n",
    "    from mir_eval.util import midi_to_hz\n",
    "    pitches = np.array([midi_to_hz(p + 21) for p in pitches])\n",
    "    intervals = np.array(intervals) * scale_factor\n",
    "    velocities =np.array(velocities)\n",
    "    \n",
    "    return pitches, intervals, velocities"
   ]
  },
  {
   "cell_type": "code",
   "execution_count": 15,
   "metadata": {},
   "outputs": [
    {
     "data": {
      "text/plain": [
       "((158, 2), (7440, 2))"
      ]
     },
     "execution_count": 15,
     "metadata": {},
     "output_type": "execute_result"
    }
   ],
   "source": [
    "pitches_true, intervals_true, vels_true = extract_notes(onset_true.squeeze(), \n",
    "                                                        frame_true.squeeze(), \n",
    "                                                        sample[\"velocity\"].squeeze())\n",
    "pitches_pred, intervals_pred, vels_pred = extract_notes(onset_pred.squeeze(),\n",
    "                                                        frame_pred.squeeze(), \n",
    "                                                        sample[\"velocity\"].squeeze())\n",
    "\n",
    "intervals_true.shape, intervals_pred.shape"
   ]
  },
  {
   "cell_type": "code",
   "execution_count": 39,
   "metadata": {},
   "outputs": [
    {
     "data": {
      "text/plain": [
       "(0.0, 0.0, 0.0, 0.0)"
      ]
     },
     "execution_count": 39,
     "metadata": {},
     "output_type": "execute_result"
    }
   ],
   "source": [
    "intervals_pred = np.empty((0, 2))\n",
    "pitches_pred = np.random.uniform(size=0)\n",
    "precision_recall_f1_overlap(intervals_true, pitches_true,\n",
    "                            intervals_pred, pitches_pred, \n",
    "                            offset_ratio=None)"
   ]
  },
  {
   "cell_type": "code",
   "execution_count": 31,
   "metadata": {},
   "outputs": [
    {
     "data": {
      "text/plain": [
       "(0.0, 0.0, 0.0, 0.0)"
      ]
     },
     "execution_count": 31,
     "metadata": {},
     "output_type": "execute_result"
    }
   ],
   "source": [
    "eval_notes_with_velocity(intervals_true, pitches_true, vels_true,\n",
    "                            intervals_pred, pitches_pred, np.array([]),\n",
    "                            offset_ratio=None)"
   ]
  },
  {
   "cell_type": "code",
   "execution_count": 35,
   "metadata": {},
   "outputs": [
    {
     "data": {
      "text/plain": [
       "array([], shape=(0, 2), dtype=float64)"
      ]
     },
     "execution_count": 35,
     "metadata": {},
     "output_type": "execute_result"
    }
   ],
   "source": [
    "np.empty((0,2))"
   ]
  },
  {
   "cell_type": "code",
   "execution_count": 2,
   "metadata": {},
   "outputs": [
    {
     "name": "stdout",
     "output_type": "stream",
     "text": [
      "torch.Size([2, 2]) torch.Size([2, 2])\n"
     ]
    }
   ],
   "source": [
    "import torch\n",
    "a = torch.randn(32, 2, 2)\n",
    "b = torch.randn(32, 2, 2)\n",
    "for x, y in zip(a,b):\n",
    "    print(x.shape, y.shape)\n",
    "    break"
   ]
  },
  {
   "cell_type": "code",
   "execution_count": 8,
   "metadata": {},
   "outputs": [
    {
     "name": "stdout",
     "output_type": "stream",
     "text": [
      "<class 'torch.Tensor'> tensor(-0.2453)\n",
      "<class 'torch.Tensor'> tensor(-0.7164)\n"
     ]
    }
   ],
   "source": [
    "for i in a[0][0]:\n",
    "    print(type(i), i)"
   ]
  }
 ],
 "metadata": {
  "kernelspec": {
   "display_name": "Python [conda env:piano-transcribe]",
   "language": "python",
   "name": "conda-env-piano-transcribe-py"
  },
  "language_info": {
   "codemirror_mode": {
    "name": "ipython",
    "version": 3
   },
   "file_extension": ".py",
   "mimetype": "text/x-python",
   "name": "python",
   "nbconvert_exporter": "python",
   "pygments_lexer": "ipython3",
   "version": "3.8.5"
  }
 },
 "nbformat": 4,
 "nbformat_minor": 4
}
