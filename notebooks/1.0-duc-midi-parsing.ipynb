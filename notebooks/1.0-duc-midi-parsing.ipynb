{
 "cells": [
  {
   "cell_type": "code",
   "execution_count": 2,
   "metadata": {},
   "outputs": [
    {
     "name": "stdout",
     "output_type": "stream",
     "text": [
      "/media/minhduc0711/Libraries/Codes/EURECOM/MALIS_project\n"
     ]
    }
   ],
   "source": [
    "%load_ext autoreload\n",
    "%autoreload 2\n",
    "%cd .."
   ]
  },
  {
   "cell_type": "code",
   "execution_count": 83,
   "metadata": {},
   "outputs": [],
   "source": [
    "import mido\n",
    "import numpy as np\n",
    "import pandas as pd\n",
    "\n",
    "from src.data.midi import parse_midi"
   ]
  },
  {
   "cell_type": "code",
   "execution_count": 89,
   "metadata": {},
   "outputs": [],
   "source": [
    "mid_path = \"data/raw/MAPS/ENSTDkAm2/ENSTDkAm/MUS/MAPS_MUS-chpn_op25_e3_ENSTDkAm.mid\"\n",
    "mid = mido.MidiFile(mid_path)"
   ]
  },
  {
   "cell_type": "code",
   "execution_count": 94,
   "metadata": {},
   "outputs": [
    {
     "name": "stdout",
     "output_type": "stream",
     "text": [
      "1692\n"
     ]
    }
   ],
   "source": [
    "# original txt file from MAPS dataset\n",
    "ref_df = pd.read_csv(\"data/raw/MAPS/ENSTDkAm2/ENSTDkAm/MUS/MAPS_MUS-chpn_op25_e3_ENSTDkAm.txt\", delim_whitespace=True)\n",
    "ref_df.sort_values([\"OnsetTime\", \"OffsetTime\"], inplace=True, ignore_index=True)\n",
    "print(len(ref_df))"
   ]
  },
  {
   "cell_type": "code",
   "execution_count": 95,
   "metadata": {},
   "outputs": [
    {
     "data": {
      "text/plain": [
       "array([0.04010921, 0.04173317])"
      ]
     },
     "execution_count": 95,
     "metadata": {},
     "output_type": "execute_result"
    }
   ],
   "source": [
    "# my code\n",
    "df = parse_midi(mid_path)\n",
    "err = np.abs(df[[\"onset\", \"offset\"]].to_numpy() - ref_df[[\"OnsetTime\", \"OffsetTime\"]].to_numpy())\n",
    "np.sum(err, axis=0)"
   ]
  },
  {
   "cell_type": "code",
   "execution_count": 56,
   "metadata": {},
   "outputs": [
    {
     "data": {
      "text/plain": [
       "array([3.94023000e-01, 1.04846162e+03])"
      ]
     },
     "execution_count": 56,
     "metadata": {},
     "output_type": "execute_result"
    }
   ],
   "source": [
    "# cross-check with pytorch repo\n",
    "df2 = pd.read_csv(\"MAPS_MUS-bk_xmas1_ENSTDkAm.tsv\", delimiter=\"\\t\")\n",
    "df2.sort_values([\"onset\", \"offset\"], inplace=True, ignore_index=True)\n",
    "err = np.abs(df2[[\"onset\", \"offset\"]].to_numpy() - ref_df[[\"OnsetTime\", \"OffsetTime\"]].to_numpy())\n",
    "np.sum(err, axis=0)"
   ]
  },
  {
   "cell_type": "code",
   "execution_count": 96,
   "metadata": {},
   "outputs": [
    {
     "data": {
      "text/plain": [
       "array([4.01092102e-02, 3.59860614e+02])"
      ]
     },
     "execution_count": 96,
     "metadata": {},
     "output_type": "execute_result"
    }
   ],
   "source": [
    "# cross-check with magenta\n",
    "from note_seq import midi_io\n",
    "seq = midi_io.midi_file_to_note_sequence(mid_path)\n",
    "rows = []\n",
    "for note in seq.notes:\n",
    "    rows.append({\n",
    "        \"onset\": note.start_time,\n",
    "        \"offset\": note.end_time,\n",
    "        \"note\": note.pitch\n",
    "    })\n",
    "df_magenta = pd.DataFrame(rows, columns=[\"onset\", \"offset\", \"note\", \"velocity\"], )\n",
    "df_magenta.sort_values([\"onset\", \"offset\"], inplace=True, ignore_index=True)\n",
    "err = np.abs(df_magenta[[\"onset\", \"offset\"]].to_numpy() - ref_df[[\"OnsetTime\", \"OffsetTime\"]].to_numpy())\n",
    "np.sum(err, axis=0)"
   ]
  },
  {
   "cell_type": "code",
   "execution_count": null,
   "metadata": {},
   "outputs": [],
   "source": []
  }
 ],
 "metadata": {
  "kernelspec": {
   "display_name": "Python [conda env:piano-transcribe]",
   "language": "python",
   "name": "conda-env-piano-transcribe-py"
  },
  "language_info": {
   "codemirror_mode": {
    "name": "ipython",
    "version": 3
   },
   "file_extension": ".py",
   "mimetype": "text/x-python",
   "name": "python",
   "nbconvert_exporter": "python",
   "pygments_lexer": "ipython3",
   "version": "3.8.5"
  }
 },
 "nbformat": 4,
 "nbformat_minor": 4
}
